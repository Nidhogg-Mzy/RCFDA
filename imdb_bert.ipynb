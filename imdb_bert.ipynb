{
 "cells": [
  {
   "cell_type": "code",
   "execution_count": 1,
   "metadata": {},
   "outputs": [
    {
     "name": "stdout",
     "output_type": "stream",
     "text": [
      "Using device: cuda\n"
     ]
    }
   ],
   "source": [
    "import torch\n",
    "import os\n",
    "os.environ[\"CUDA_VISIBLE_DEVICES\"]=\"3\"\n",
    "device = torch.device('cuda' if torch.cuda.is_available() else 'cpu')\n",
    "print(\"Using device:\", device)"
   ]
  },
  {
   "cell_type": "code",
   "execution_count": 2,
   "metadata": {},
   "outputs": [
    {
     "name": "stderr",
     "output_type": "stream",
     "text": [
      "/home/zmengaf/miniconda3/envs/rcfda/lib/python3.10/site-packages/tqdm/auto.py:21: TqdmWarning: IProgress not found. Please update jupyter and ipywidgets. See https://ipywidgets.readthedocs.io/en/stable/user_install.html\n",
      "  from .autonotebook import tqdm as notebook_tqdm\n"
     ]
    }
   ],
   "source": [
    "import pandas as pd\n",
    "from sklearn.model_selection import train_test_split\n",
    "from transformers import BertTokenizer, BertForSequenceClassification, AdamW\n",
    "from torch.utils.data import DataLoader, TensorDataset\n",
    "from datasets import load_dataset\n",
    "from tqdm import tqdm"
   ]
  },
  {
   "cell_type": "code",
   "execution_count": 3,
   "metadata": {},
   "outputs": [
    {
     "name": "stdout",
     "output_type": "stream",
     "text": [
      "DatasetDict({\n",
      "    train: Dataset({\n",
      "        features: ['text', 'label'],\n",
      "        num_rows: 25000\n",
      "    })\n",
      "    test: Dataset({\n",
      "        features: ['text', 'label'],\n",
      "        num_rows: 25000\n",
      "    })\n",
      "    unsupervised: Dataset({\n",
      "        features: ['text', 'label'],\n",
      "        num_rows: 50000\n",
      "    })\n",
      "})\n"
     ]
    }
   ],
   "source": [
    "dataset = load_dataset(\"imdb\")\n",
    "print(dataset)\n",
    "imdb_test = dataset['test']\n",
    "imdb_train = dataset['train']"
   ]
  },
  {
   "cell_type": "code",
   "execution_count": 4,
   "metadata": {},
   "outputs": [
    {
     "name": "stderr",
     "output_type": "stream",
     "text": [
      "Some weights of BertForSequenceClassification were not initialized from the model checkpoint at bert-base-uncased and are newly initialized: ['classifier.weight', 'classifier.bias']\n",
      "You should probably TRAIN this model on a down-stream task to be able to use it for predictions and inference.\n"
     ]
    }
   ],
   "source": [
    "# Bert-base-cased, tokenize\n",
    "tokenizer = BertTokenizer.from_pretrained('bert-base-uncased')\n",
    "model = BertForSequenceClassification.from_pretrained('bert-base-uncased', num_labels=2).to(device)\n",
    "\n",
    "# Test on IMDB dataset\n",
    "imdb_test_encodings = tokenizer(list(imdb_test['text']), truncation=True, padding=True)\n",
    "imdb_test_labels = torch.tensor(list(imdb_test['label']))\n",
    "imdb_test_dataset = TensorDataset(torch.tensor(imdb_test_encodings['input_ids']),\n",
    "                                  torch.tensor(imdb_test_encodings['attention_mask']),\n",
    "                                  imdb_test_labels)\n",
    "imdb_test_loader = DataLoader(imdb_test_dataset, batch_size=16, shuffle=False)"
   ]
  },
  {
   "cell_type": "code",
   "execution_count": 5,
   "metadata": {},
   "outputs": [
    {
     "name": "stderr",
     "output_type": "stream",
     "text": [
      "testing: 100%|██████████| 1563/1563 [01:37<00:00, 15.96it/s]"
     ]
    },
    {
     "name": "stdout",
     "output_type": "stream",
     "text": [
      "imdb bert vanilla accuracy: 0.50004\n"
     ]
    },
    {
     "name": "stderr",
     "output_type": "stream",
     "text": [
      "\n"
     ]
    }
   ],
   "source": [
    "model.eval()\n",
    "with torch.no_grad():\n",
    "    imdb_correct = 0\n",
    "    with tqdm(total=len(imdb_test_loader), desc='testing') as pbar:\n",
    "        for batch in imdb_test_loader:\n",
    "            input_ids, attention_mask, labels = tuple(t.to(device) for t in batch)\n",
    "            outputs = model(input_ids, attention_mask=attention_mask)\n",
    "            logits = outputs.logits\n",
    "            imdb_correct += (logits.argmax(dim=1) == labels).float().sum().item()\n",
    "            pbar.update(1)\n",
    "        imdb_accuracy = imdb_correct / len(imdb_test)\n",
    "\n",
    "print('imdb bert vanilla accuracy:', imdb_accuracy)"
   ]
  },
  {
   "cell_type": "markdown",
   "metadata": {},
   "source": [
    "Hyper-parameters: batchsize = 16, lr=1e-5, AdamW, epoch=200"
   ]
  },
  {
   "cell_type": "code",
   "execution_count": 6,
   "metadata": {},
   "outputs": [],
   "source": [
    "# Train on IMDB dataset\n",
    "imdb_train_encodings = tokenizer(list(imdb_train['text']), truncation=True, padding=True)\n",
    "imdb_train_labels = torch.tensor(list(imdb_train['label']))\n",
    "imdb_train_dataset = TensorDataset(torch.tensor(imdb_train_encodings['input_ids']),\n",
    "                                   torch.tensor(imdb_train_encodings['attention_mask']),\n",
    "                                   imdb_train_labels)\n",
    "imdb_train_loader = DataLoader(imdb_train_dataset, batch_size=16, shuffle=True)"
   ]
  },
  {
   "cell_type": "code",
   "execution_count": 7,
   "metadata": {},
   "outputs": [
    {
     "name": "stderr",
     "output_type": "stream",
     "text": [
      "/home/zmengaf/miniconda3/envs/rcfda/lib/python3.10/site-packages/transformers/optimization.py:411: FutureWarning: This implementation of AdamW is deprecated and will be removed in a future version. Use the PyTorch implementation torch.optim.AdamW instead, or set `no_deprecation_warning=True` to disable this warning\n",
      "  warnings.warn(\n"
     ]
    },
    {
     "name": "stdout",
     "output_type": "stream",
     "text": [
      "Epoch 1: train_loss=0.2443, train_accuracy=0.9011, test_accuracy=0.9343\n",
      "Epoch 2: train_loss=0.1338, train_accuracy=0.9528, test_accuracy=0.9355\n",
      "Epoch 3: train_loss=0.0745, train_accuracy=0.9762, test_accuracy=0.9370\n",
      "Epoch 4: train_loss=0.0433, train_accuracy=0.9866, test_accuracy=0.9328\n",
      "Epoch 5: train_loss=0.0311, train_accuracy=0.9904, test_accuracy=0.9370\n",
      "Epoch 6: train_loss=0.0234, train_accuracy=0.9937, test_accuracy=0.9309\n",
      "Epoch 7: train_loss=0.0192, train_accuracy=0.9951, test_accuracy=0.9375\n",
      "Epoch 8: train_loss=0.0185, train_accuracy=0.9946, test_accuracy=0.9361\n",
      "Epoch 9: train_loss=0.0151, train_accuracy=0.9956, test_accuracy=0.9314\n",
      "Epoch 10: train_loss=0.0143, train_accuracy=0.9953, test_accuracy=0.9350\n",
      "Epoch 11: train_loss=0.0110, train_accuracy=0.9968, test_accuracy=0.9384\n",
      "Epoch 12: train_loss=0.0104, train_accuracy=0.9967, test_accuracy=0.9378\n",
      "Epoch 13: train_loss=0.0092, train_accuracy=0.9968, test_accuracy=0.9375\n",
      "Epoch 14: train_loss=0.0081, train_accuracy=0.9974, test_accuracy=0.9362\n",
      "Epoch 15: train_loss=0.0078, train_accuracy=0.9970, test_accuracy=0.9372\n",
      "Epoch 16: train_loss=0.0071, train_accuracy=0.9975, test_accuracy=0.9388\n",
      "Epoch 17: train_loss=0.0071, train_accuracy=0.9975, test_accuracy=0.9376\n",
      "Epoch 18: train_loss=0.0064, train_accuracy=0.9975, test_accuracy=0.9406\n",
      "Epoch 19: train_loss=0.0049, train_accuracy=0.9985, test_accuracy=0.9280\n",
      "Epoch 20: train_loss=0.0050, train_accuracy=0.9983, test_accuracy=0.9392\n",
      "Epoch 21: train_loss=0.0056, train_accuracy=0.9984, test_accuracy=0.9388\n",
      "Epoch 22: train_loss=0.0046, train_accuracy=0.9984, test_accuracy=0.9376\n",
      "Epoch 23: train_loss=0.0040, train_accuracy=0.9986, test_accuracy=0.9364\n",
      "Epoch 24: train_loss=0.0043, train_accuracy=0.9986, test_accuracy=0.9350\n",
      "Epoch 25: train_loss=0.0041, train_accuracy=0.9987, test_accuracy=0.9355\n",
      "Epoch 26: train_loss=0.0045, train_accuracy=0.9987, test_accuracy=0.9381\n",
      "Epoch 27: train_loss=0.0035, train_accuracy=0.9988, test_accuracy=0.9394\n",
      "Epoch 28: train_loss=0.0053, train_accuracy=0.9978, test_accuracy=0.9372\n",
      "Epoch 29: train_loss=0.0034, train_accuracy=0.9990, test_accuracy=0.9386\n",
      "Epoch 30: train_loss=0.0041, train_accuracy=0.9988, test_accuracy=0.9382\n",
      "Epoch 31: train_loss=0.0037, train_accuracy=0.9986, test_accuracy=0.9396\n",
      "Epoch 32: train_loss=0.0037, train_accuracy=0.9990, test_accuracy=0.9376\n",
      "Epoch 33: train_loss=0.0036, train_accuracy=0.9986, test_accuracy=0.9384\n",
      "Epoch 34: train_loss=0.0043, train_accuracy=0.9987, test_accuracy=0.9384\n",
      "Epoch 35: train_loss=0.0036, train_accuracy=0.9990, test_accuracy=0.9378\n",
      "Epoch 36: train_loss=0.0032, train_accuracy=0.9993, test_accuracy=0.9402\n",
      "Epoch 37: train_loss=0.0042, train_accuracy=0.9986, test_accuracy=0.9412\n",
      "Epoch 38: train_loss=0.0022, train_accuracy=0.9992, test_accuracy=0.9395\n",
      "Epoch 39: train_loss=0.0026, train_accuracy=0.9992, test_accuracy=0.9362\n",
      "Epoch 40: train_loss=0.0050, train_accuracy=0.9984, test_accuracy=0.9389\n",
      "Epoch 41: train_loss=0.0018, train_accuracy=0.9993, test_accuracy=0.9332\n",
      "Epoch 42: train_loss=0.0024, train_accuracy=0.9991, test_accuracy=0.9368\n",
      "Epoch 43: train_loss=0.0021, train_accuracy=0.9993, test_accuracy=0.9351\n",
      "Epoch 44: train_loss=0.0028, train_accuracy=0.9990, test_accuracy=0.9321\n",
      "Epoch 45: train_loss=0.0027, train_accuracy=0.9991, test_accuracy=0.9384\n",
      "Epoch 46: train_loss=0.0022, train_accuracy=0.9992, test_accuracy=0.9379\n",
      "Epoch 47: train_loss=0.0019, train_accuracy=0.9995, test_accuracy=0.9326\n",
      "Epoch 48: train_loss=0.0019, train_accuracy=0.9992, test_accuracy=0.9397\n",
      "Epoch 49: train_loss=0.0020, train_accuracy=0.9994, test_accuracy=0.9394\n",
      "Epoch 50: train_loss=0.0020, train_accuracy=0.9991, test_accuracy=0.9397\n",
      "Epoch 51: train_loss=0.0024, train_accuracy=0.9992, test_accuracy=0.9401\n",
      "Epoch 52: train_loss=0.0023, train_accuracy=0.9993, test_accuracy=0.9371\n",
      "Epoch 53: train_loss=0.0021, train_accuracy=0.9992, test_accuracy=0.9390\n",
      "Epoch 54: train_loss=0.0026, train_accuracy=0.9991, test_accuracy=0.9341\n",
      "Epoch 55: train_loss=0.0028, train_accuracy=0.9991, test_accuracy=0.9366\n",
      "Epoch 56: train_loss=0.0016, train_accuracy=0.9993, test_accuracy=0.9362\n",
      "Epoch 57: train_loss=0.0018, train_accuracy=0.9994, test_accuracy=0.9380\n",
      "Epoch 58: train_loss=0.0031, train_accuracy=0.9990, test_accuracy=0.9364\n",
      "Epoch 59: train_loss=0.0019, train_accuracy=0.9994, test_accuracy=0.9369\n",
      "Epoch 60: train_loss=0.0025, train_accuracy=0.9994, test_accuracy=0.9388\n",
      "Epoch 61: train_loss=0.0017, train_accuracy=0.9992, test_accuracy=0.9366\n",
      "Epoch 62: train_loss=0.0018, train_accuracy=0.9994, test_accuracy=0.9370\n",
      "Epoch 63: train_loss=0.0041, train_accuracy=0.9989, test_accuracy=0.9393\n",
      "Epoch 64: train_loss=0.0003, train_accuracy=0.9999, test_accuracy=0.9394\n",
      "Epoch 65: train_loss=0.0026, train_accuracy=0.9993, test_accuracy=0.9383\n",
      "Epoch 66: train_loss=0.0020, train_accuracy=0.9990, test_accuracy=0.9367\n",
      "Epoch 67: train_loss=0.0023, train_accuracy=0.9993, test_accuracy=0.9407\n",
      "Epoch 68: train_loss=0.0006, train_accuracy=0.9999, test_accuracy=0.9413\n",
      "Epoch 69: train_loss=0.0026, train_accuracy=0.9992, test_accuracy=0.9383\n",
      "Epoch 70: train_loss=0.0026, train_accuracy=0.9992, test_accuracy=0.9399\n",
      "Epoch 71: train_loss=0.0020, train_accuracy=0.9994, test_accuracy=0.9398\n",
      "Epoch 72: train_loss=0.0002, train_accuracy=1.0000, test_accuracy=0.9401\n",
      "Epoch 73: train_loss=0.0017, train_accuracy=0.9995, test_accuracy=0.9401\n",
      "Epoch 74: train_loss=0.0023, train_accuracy=0.9994, test_accuracy=0.9412\n",
      "Epoch 75: train_loss=0.0021, train_accuracy=0.9994, test_accuracy=0.9391\n",
      "Epoch 76: train_loss=0.0012, train_accuracy=0.9996, test_accuracy=0.9356\n",
      "Epoch 77: train_loss=0.0012, train_accuracy=0.9997, test_accuracy=0.9408\n",
      "Epoch 78: train_loss=0.0014, train_accuracy=0.9994, test_accuracy=0.9358\n",
      "Epoch 79: train_loss=0.0014, train_accuracy=0.9997, test_accuracy=0.9340\n",
      "Epoch 80: train_loss=0.0022, train_accuracy=0.9993, test_accuracy=0.9370\n",
      "Epoch 81: train_loss=0.0028, train_accuracy=0.9994, test_accuracy=0.9394\n",
      "Epoch 82: train_loss=0.0020, train_accuracy=0.9993, test_accuracy=0.9370\n",
      "Epoch 83: train_loss=0.0021, train_accuracy=0.9995, test_accuracy=0.9375\n",
      "Epoch 84: train_loss=0.0011, train_accuracy=0.9997, test_accuracy=0.9397\n",
      "Epoch 85: train_loss=0.0012, train_accuracy=0.9996, test_accuracy=0.9380\n",
      "Epoch 86: train_loss=0.0017, train_accuracy=0.9997, test_accuracy=0.9371\n",
      "Epoch 87: train_loss=0.0021, train_accuracy=0.9994, test_accuracy=0.9393\n",
      "Epoch 88: train_loss=0.0019, train_accuracy=0.9995, test_accuracy=0.9389\n",
      "Epoch 89: train_loss=0.0012, train_accuracy=0.9996, test_accuracy=0.9402\n",
      "Epoch 90: train_loss=0.0024, train_accuracy=0.9992, test_accuracy=0.9280\n",
      "Epoch 91: train_loss=0.0002, train_accuracy=1.0000, test_accuracy=0.9394\n",
      "Epoch 92: train_loss=0.0024, train_accuracy=0.9993, test_accuracy=0.9408\n",
      "Epoch 93: train_loss=0.0017, train_accuracy=0.9996, test_accuracy=0.9417\n",
      "Epoch 94: train_loss=0.0005, train_accuracy=0.9998, test_accuracy=0.9404\n",
      "Epoch 95: train_loss=0.0025, train_accuracy=0.9992, test_accuracy=0.9364\n",
      "Epoch 96: train_loss=0.0007, train_accuracy=0.9998, test_accuracy=0.9370\n",
      "Epoch 97: train_loss=0.0010, train_accuracy=0.9996, test_accuracy=0.9376\n",
      "Epoch 98: train_loss=0.0017, train_accuracy=0.9997, test_accuracy=0.9380\n",
      "Epoch 99: train_loss=0.0005, train_accuracy=0.9999, test_accuracy=0.9381\n",
      "Epoch 100: train_loss=0.0013, train_accuracy=0.9997, test_accuracy=0.9255\n"
     ]
    }
   ],
   "source": [
    "optimizer = AdamW(model.parameters(), lr=1e-5)\n",
    "\n",
    "\n",
    "train_losses = []\n",
    "train_accuracies = []\n",
    "test_accuracies = []\n",
    "\n",
    "for epoch in range(200):\n",
    "    model.train()\n",
    "    train_loss = 0\n",
    "    train_correct = 0\n",
    "    for batch in imdb_train_loader:\n",
    "        optimizer.zero_grad()\n",
    "        input_ids, attention_mask, labels = tuple(t.to(device) for t in batch)\n",
    "        outputs = model(input_ids, attention_mask=attention_mask, labels=labels)\n",
    "        loss = outputs.loss\n",
    "        logits = outputs.logits\n",
    "        train_loss += loss.item()\n",
    "        train_correct += (logits.argmax(dim=1) == labels).float().sum().item()\n",
    "        loss.backward()\n",
    "        optimizer.step()\n",
    "    train_loss /= len(imdb_train_loader)\n",
    "    train_accuracy = train_correct / len(imdb_train)\n",
    "    train_losses.append(train_loss)\n",
    "    train_accuracies.append(train_accuracy)\n",
    "\n",
    "    model.eval()\n",
    "    with torch.no_grad():\n",
    "        test_correct = 0\n",
    "        for batch in imdb_test_loader:\n",
    "            input_ids, attention_mask, labels = tuple(t.to(device) for t in batch)\n",
    "            outputs = model(input_ids, attention_mask=attention_mask)\n",
    "            logits = outputs.logits\n",
    "            test_correct += (logits.argmax(dim=1) == labels).float().sum().item()\n",
    "        test_accuracy = test_correct / len(imdb_test)\n",
    "        test_accuracies.append(test_accuracy)\n",
    "\n",
    "    print(f\"Epoch {epoch + 1}: train_loss={train_loss:.4f}, train_accuracy={train_accuracy:.4f}, test_accuracy={test_accuracy:.4f}\")"
   ]
  },
  {
   "cell_type": "code",
   "execution_count": 8,
   "metadata": {},
   "outputs": [
    {
     "data": {
      "image/png": "[encoded data removed]",
      "text/plain": [
       "<Figure size 640x480 with 1 Axes>"
      ]
     },
     "metadata": {},
     "output_type": "display_data"
    },
    {
     "ename": "",
     "evalue": "",
     "output_type": "error",
     "traceback": [
      "\u001b[1;31mThe Kernel crashed while executing code in the the current cell or a previous cell. Please review the code in the cell(s) to identify a possible cause of the failure. Click <a href='https://aka.ms/vscodeJupyterKernelCrash'>here</a> for more info. View Jupyter <a href='command:jupyter.viewOutput'>log</a> for further details."
     ]
    }
   ],
   "source": [
    "\n",
    "import matplotlib.pyplot as plt\n",
    "\n",
    "plt.plot(train_losses, label='train loss')\n",
    "plt.plot(train_accuracies, label='train accuracy')\n",
    "plt.plot(test_accuracies, label='test accuracy')\n",
    "plt.legend()\n",
    "plt.show()"
   ]
  },
  {
   "cell_type": "code",
   "execution_count": null,
   "metadata": {},
   "outputs": [],
   "source": []
  }
 ],
 "metadata": {
  "kernelspec": {
   "display_name": "base",
   "language": "python",
   "name": "python3"
  },
  "language_info": {
   "codemirror_mode": {
    "name": "ipython",
    "version": 3
   },
   "file_extension": ".py",
   "mimetype": "text/x-python",
   "name": "python",
   "nbconvert_exporter": "python",
   "pygments_lexer": "ipython3",
   "version": "3.10.13"
  }
 },
 "nbformat": 4,
 "nbformat_minor": 2
}
